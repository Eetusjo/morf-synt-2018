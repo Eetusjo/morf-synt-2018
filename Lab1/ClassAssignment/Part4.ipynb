{
 "cells": [
  {
   "cell_type": "markdown",
   "metadata": {},
   "source": [
    "### Part 4. Adding nouns and adjectives to the lexicon\n",
    "\n",
    "TODO: About the root lexicon. Nouns have plural but also genitive (this chain of sublexicons will be shown). Adjectives have comparison (these lexicons must be added by the user)."
   ]
  }
 ],
 "metadata": {
  "kernelspec": {
   "display_name": "Python 3",
   "language": "python",
   "name": "python3"
  },
  "language_info": {
   "codemirror_mode": {
    "name": "ipython",
    "version": 3
   },
   "file_extension": ".py",
   "mimetype": "text/x-python",
   "name": "python",
   "nbconvert_exporter": "python",
   "pygments_lexer": "ipython3",
   "version": "3.6.2"
  }
 },
 "nbformat": 4,
 "nbformat_minor": 2
}
