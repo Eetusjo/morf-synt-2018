{
 "cells": [
  {
   "cell_type": "markdown",
   "metadata": {},
   "source": [
    "### Part 2. Adding noun stems to the lexicon\n",
    "\n",
    "You can keep Part 1 open in another tab, if you need to go back and check som details.\n",
    "\n",
    "Below you can see the entire Python program from Part 1 collected into one single cell. You can now run the whole program at once:"
   ]
  },
  {
   "cell_type": "code",
   "execution_count": null,
   "metadata": {},
   "outputs": [],
   "source": [
    "from morpholexicon import *\n",
    "\n",
    "# Sublexicon for English verb stems\n",
    "\n",
    "def verbstems(state):\n",
    "    entry_a(\"climb\", verbendings, state)\n",
    "    entry_a(\"lift\", verbendings, state)\n",
    "    entry_a(\"open\", verbendings, state)\n",
    "    entry_a(\"talk\", verbendings, state)\n",
    "    entry_a(\"walk\", verbendings, state)\n",
    "\n",
    "# Sublexicon for regular English verb endings\n",
    "\n",
    "def verbendings(state):\n",
    "    entry_t(\"+V+Inf\", \"\", None, state)\n",
    "    entry_t(\"+V+Pres3Sg\", \"s\", None, state)\n",
    "    entry_t(\"+V+Prog\", \"ing\", None, state)\n",
    "    entry_t(\"+V+Past\", \"ed\", None, state)\n",
    "\n",
    "# The main program start here\n",
    "\n",
    "# First load the lexicon and tell Python that \"verbstems\" is the starting point\n",
    "load_lexicon(verbstems, None)\n",
    "\n",
    "# Then dig out some information from this lexicon\n",
    "\n",
    "generate(\"talk+V+Prog\")\n",
    "analyze(\"opens\")\n",
    "\n",
    "generate_all()\n",
    "analyze_all()\n",
    "\n",
    "show_random_wordforms(7)\n",
    "show_random_analyses(9)\n",
    "\n",
    "# End of program"
   ]
  },
  {
   "cell_type": "markdown",
   "metadata": {},
   "source": [
    "Your task is now to **add more English verb stems to the verbstem sublexicon**. Make sure that you pick verbs that work with the given endings sublexicon. If you add irregular verbs or verbs with some alternation in the stem or ending, then you will not get proper surface forms of your verbs. Naturally, you can also test to see what such bad inflections look like.\n",
    "\n",
    "Rerun the program and study the result. You can also modify the commands that print information about your lexicon. You don't have to show exactly seven random surface forms. You don't have to show _any_ random surface forms. Etc.\n",
    "\n",
    "When you are done adding more stems and feel confident about how this works, you can continue to Part 3."
   ]
  }
 ],
 "metadata": {
  "kernelspec": {
   "display_name": "Python 3",
   "language": "python",
   "name": "python3"
  },
  "language_info": {
   "codemirror_mode": {
    "name": "ipython",
    "version": 3
   },
   "file_extension": ".py",
   "mimetype": "text/x-python",
   "name": "python",
   "nbconvert_exporter": "python",
   "pygments_lexer": "ipython3",
   "version": "3.6.2"
  }
 },
 "nbformat": 4,
 "nbformat_minor": 2
}
